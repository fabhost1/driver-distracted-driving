{
 "cells": [
  {
   "cell_type": "code",
   "execution_count": null,
   "metadata": {
    "collapsed": true
   },
   "outputs": [],
   "source": [
    "from keras.models import load_model\n",
    "from keras.preprocessing.image import load_img\n",
    "from keras.preprocessing.image import img_to_array\n",
    "from keras.applications import imagenet_utils\n",
    "from model import create_model\n",
    "import numpy as np\n",
    "import operator\n",
    "from keras.preprocessing.image import ImageDataGenerator\n",
    "import matplotlib.pyplot as plt"
   ]
  },
  {
   "cell_type": "code",
   "execution_count": null,
   "metadata": {
    "collapsed": true
   },
   "outputs": [],
   "source": [
    "img_path = \"../../../dataset/split_data/test/c0/img_41813.jpg\"\n",
    "class_labels = ['safe_driving', 'texting_right', 'talking_on_phone_right', 'texting_left', 'talking_on_phone_left',\n",
    "                'operating_radio', 'drinking', 'reaching_behind', 'doing_hair_makeup', 'talking_to_passanger']"
   ]
  },
  {
   "cell_type": "code",
   "execution_count": null,
   "metadata": {
    "collapsed": true
   },
   "outputs": [],
   "source": [
    "model = create_model()\n",
    "model.load_weights(\"_weights.h5\")\n",
    "model.compile(loss='categorical_crossentropy',\n",
    "              optimizer='rmsprop',\n",
    "              metrics=['accuracy'])"
   ]
  },
  {
   "cell_type": "code",
   "execution_count": null,
   "metadata": {
    "collapsed": true
   },
   "outputs": [],
   "source": [
    "target_size=(150,150)\n",
    "\n",
    "# prepare image for classification using keras utility functions\n",
    "image = load_img(img_path, target_size=target_size)\n",
    "\n",
    "image_arr = img_to_array(image) # convert from PIL Image to NumPy array\n",
    "# the dimensions of image should now be (150, 150, 3)\n",
    "\n",
    "# to be able to pass it through the network and use batches, we want it with shape (1, 150, 150, 3)\n",
    "image_arr = np.expand_dims(image_arr, axis=0)\n",
    "print(image_arr.shape)\n",
    "\n",
    "image_arr /= 255"
   ]
  },
  {
   "cell_type": "code",
   "execution_count": null,
   "metadata": {
    "collapsed": true
   },
   "outputs": [],
   "source": [
    "# classify given an image\n",
    "predictions = model.predict(image_arr)\n",
    "\n",
    "# get human-readable labels of the preditions, as well as the corresponding probability\n",
    "decoded_predictions = dict(zip(class_labels, predictions[0]))\n",
    "\n",
    "# sort dictionary by value\n",
    "decoded_predictions = sorted(decoded_predictions.items(), key=operator.itemgetter(1), reverse=True)\n",
    "\n",
    "# print image\n",
    "plt.imshow(image)\n",
    "plt.axis('off')\n",
    "plt.show()\n",
    "\n",
    "count = 1\n",
    "for key, value in decoded_predictions[:5]:\n",
    "    print(\"{}. {}: {:8f}%\".format(count, key, value*100))\n",
    "    count+=1"
   ]
  }
 ],
 "metadata": {
  "kernelspec": {
   "display_name": "Python 3",
   "language": "python",
   "name": "python3"
  },
  "language_info": {
   "codemirror_mode": {
    "name": "ipython",
    "version": 3
   },
   "file_extension": ".py",
   "mimetype": "text/x-python",
   "name": "python",
   "nbconvert_exporter": "python",
   "pygments_lexer": "ipython3",
   "version": "3.6.1"
  }
 },
 "nbformat": 4,
 "nbformat_minor": 2
}
